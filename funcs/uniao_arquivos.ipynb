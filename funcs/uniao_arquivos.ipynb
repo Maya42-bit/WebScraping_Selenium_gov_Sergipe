{
 "cells": [
  {
   "cell_type": "code",
   "execution_count": 2,
   "metadata": {},
   "outputs": [],
   "source": [
    "import pandas as pd\n",
    "import os"
   ]
  },
  {
   "cell_type": "code",
   "execution_count": 4,
   "metadata": {},
   "outputs": [
    {
     "data": {
      "text/plain": [
       "['Folha-de-Pagamento-ADEMA-7-2023.csv',\n",
       " 'Folha-de-Pagamento-AGRESE-7-2023.csv',\n",
       " 'Folha-de-Pagamento-CBM%2FSE-7-2023.csv',\n",
       " 'Folha-de-Pagamento-CEHOP-7-2023.csv',\n",
       " 'Folha-de-Pagamento-CODERSE-7-2023.csv',\n",
       " 'Folha-de-Pagamento-CODISE-7-2023.csv',\n",
       " 'Folha-de-Pagamento-DER-7-2023.csv',\n",
       " 'Folha-de-Pagamento-DETRAN-7-2023.csv',\n",
       " 'Folha-de-Pagamento-EMDAGRO-7-2023.csv',\n",
       " 'Folha-de-Pagamento-EMGETIS-7-2023.csv',\n",
       " 'Folha-de-Pagamento-EMSETUR-7-2023.csv',\n",
       " 'Folha-de-Pagamento-FAPITEC-7-2023.csv',\n",
       " 'Folha-de-Pagamento-FECEP-7-2023.csv',\n",
       " 'Folha-de-Pagamento-FES%2FSAMU-7-2023.csv',\n",
       " 'Folha-de-Pagamento-FES-PSS-7-2023.csv',\n",
       " 'Folha-de-Pagamento-FHS-CLT-24900-7-2023.csv',\n",
       " 'Folha-de-Pagamento-FHS-CLT-24910-7-2023.csv',\n",
       " 'Folha-de-Pagamento-FHS-EFET-24600-7-2023.csv',\n",
       " 'Folha-de-Pagamento-FHS-ESTAG-24920-7-2023.csv',\n",
       " 'Folha-de-Pagamento-FSPH-EFET-7-2023.csv',\n",
       " 'Folha-de-Pagamento-FUNCAP%2FSE-7-2023.csv',\n",
       " 'Folha-de-Pagamento-FUNESA-7-2023.csv',\n",
       " 'Folha-de-Pagamento-IOSE-7-2023.csv',\n",
       " 'Folha-de-Pagamento-IPESAUDE-7-2023.csv',\n",
       " 'Folha-de-Pagamento-ITPS-7-2023.csv',\n",
       " 'Folha-de-Pagamento-JUCESE-7-2023.csv',\n",
       " 'Folha-de-Pagamento-PENS%C3%83O+ESPECIAL-7-2023.csv',\n",
       " 'Folha-de-Pagamento-PGE-7-2023.csv',\n",
       " 'Folha-de-Pagamento-PMSE-7-2023.csv',\n",
       " 'Folha-de-Pagamento-PRONESE-7-2023.csv',\n",
       " 'Folha-de-Pagamento-RENASCER+-+CT-7-2023.csv',\n",
       " 'Folha-de-Pagamento-RENASCER-7-2023.csv',\n",
       " 'Folha-de-Pagamento-SEAD-7-2023.csv',\n",
       " 'Folha-de-Pagamento-SEAGRI-7-2023.csv',\n",
       " 'Folha-de-Pagamento-SEASIC-7-2023.csv',\n",
       " 'Folha-de-Pagamento-SEASIC-PSS-7-2023.csv',\n",
       " 'Folha-de-Pagamento-SECC-7-2023.csv',\n",
       " 'Folha-de-Pagamento-SEDETEC-7-2023.csv',\n",
       " 'Folha-de-Pagamento-SEDUC-CT-7-2023.csv',\n",
       " 'Folha-de-Pagamento-SEDUC-EFETIVO-7-2023.csv',\n",
       " 'Folha-de-Pagamento-SEDURBI-7-2023.csv',\n",
       " 'Folha-de-Pagamento-SEEL-7-2023.csv',\n",
       " 'Folha-de-Pagamento-SEFAZ-7-2023.csv',\n",
       " 'Folha-de-Pagamento-SEJUC-7-2023.csv',\n",
       " 'Folha-de-Pagamento-SEMAC-7-2023.csv',\n",
       " 'Folha-de-Pagamento-SERGIPREV-7-2023.csv',\n",
       " 'Folha-de-Pagamento-SETC-7-2023.csv',\n",
       " 'Folha-de-Pagamento-SETEEM-7-2023.csv',\n",
       " 'Folha-de-Pagamento-SETUR-7-2023.csv',\n",
       " 'Folha-de-Pagamento-SSP-7-2023.csv']"
      ]
     },
     "execution_count": 4,
     "metadata": {},
     "output_type": "execute_result"
    }
   ],
   "source": [
    "# procurar arquivo no diretório\n",
    "\n",
    "directory_path = r\"C:\\temp\\JULHO\" \n",
    "csv_files = [file for file in os.listdir(directory_path) if file.endswith('.csv')]\n",
    "csv_files"
   ]
  },
  {
   "cell_type": "code",
   "execution_count": 5,
   "metadata": {},
   "outputs": [],
   "source": [
    "# Juntar arquivos em um diretório só\n",
    "\n",
    "frames = []\n",
    "\n",
    "for csv_file in csv_files:\n",
    "    file_path = os.path.join(directory_path, csv_file)\n",
    "    df = pd.read_csv(file_path, sep=',')\n",
    "    frames.append(df)\n"
   ]
  },
  {
   "cell_type": "code",
   "execution_count": 6,
   "metadata": {},
   "outputs": [],
   "source": [
    "# Salvar o arquivo consolidado\n",
    "\n",
    "result = pd.concat(frames, ignore_index=True)\n",
    "result.to_csv('SE 072023.csv', index=False, sep=';')\n"
   ]
  }
 ],
 "metadata": {
  "kernelspec": {
   "display_name": "Python 3",
   "language": "python",
   "name": "python3"
  },
  "language_info": {
   "codemirror_mode": {
    "name": "ipython",
    "version": 3
   },
   "file_extension": ".py",
   "mimetype": "text/x-python",
   "name": "python",
   "nbconvert_exporter": "python",
   "pygments_lexer": "ipython3",
   "version": "3.12.0"
  }
 },
 "nbformat": 4,
 "nbformat_minor": 2
}
