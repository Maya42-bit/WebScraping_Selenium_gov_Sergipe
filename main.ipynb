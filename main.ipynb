{
 "cells": [
  {
   "cell_type": "code",
   "execution_count": 1,
   "metadata": {},
   "outputs": [],
   "source": [
    "### Importações \n",
    "\n",
    "import time\n",
    "\n",
    "from selenium import webdriver\n",
    "from selenium.webdriver.support.ui import Select\n",
    "from selenium.webdriver.support.ui import WebDriverWait\n",
    "from selenium.webdriver.support import expected_conditions as EC\n",
    "from selenium.webdriver.common.by import By\n",
    "\n",
    "\n"
   ]
  },
  {
   "cell_type": "code",
   "execution_count": 2,
   "metadata": {},
   "outputs": [],
   "source": [
    "### Crianção dos parâmetros do Selenium\n",
    "\n",
    "service = webdriver.ChromeService()\n",
    "options = webdriver.ChromeOptions()\n",
    "driver = webdriver.Chrome(service=service, options=options)\n",
    "\n",
    "url = 'https://www.transparencia.se.gov.br/Pessoal/ServidoresPorOrgao.xhtml?orgao=ITPS'\n",
    "driver.get(url)\n",
    "wait = WebDriverWait(driver, 300)"
   ]
  },
  {
   "cell_type": "code",
   "execution_count": 3,
   "metadata": {},
   "outputs": [],
   "source": [
    "### Seletores das combobox\n",
    "\n",
    "\n",
    "#selecionando o Ano\n",
    "ano = input(\"Ano da busca: \")\n",
    "\n",
    "combobox_Ano = driver.find_element(by=By.XPATH, value='//*[@id=\"frmPrincipal:ano_input\"]')\n",
    "select_ano = Select(combobox_Ano)\n",
    "select_ano.select_by_visible_text(str(ano))\n",
    "\n",
    "#selecionando o Mês \n",
    "mes = input(\"Mês de Busca (Janeiro, Fevereiro ...): \")\n",
    "\n",
    "combobox_Mes = driver.find_element(by=By.XPATH, value='//*[@id=\"frmPrincipal:mes_input\"]')\n",
    "select_mes = Select(combobox_Mes)\n",
    "select_mes.select_by_visible_text(mes)\n",
    "\n",
    "\n",
    "#selecionando o Ano\n",
    "x = driver.find_elements(by=By.XPATH, value='//*[@id=\"frmPrincipal:selOrgao_panel\"]/div[2]/ul/li')\n",
    "qtd_orgaos = len([k for k in x])\n",
    "time.sleep(1.2)\n",
    "\n",
    "\n",
    "for i in range(qtd_orgaos+1):\n",
    "    combobox_Orgao = driver.find_elements(by=By.CLASS_NAME, value=\"ui-selectonemenu-label\")[2]\n",
    "    combobox_Orgao.click()\n",
    "    time.sleep(1)\n",
    "\n",
    "    orgao_numero = str(i)\n",
    "    xpath_orgao = '//*[@id=\"frmPrincipal:selOrgao_'+orgao_numero+'\"]'\n",
    "    orgao = driver.find_element(by=By.XPATH, value = xpath_orgao)\n",
    "    orgao.click()\n",
    "### Botão de Download\n",
    "\n",
    "    pesquisa_button = driver.find_element(by=By.XPATH, value='//*[@id=\"frmPrincipal:botaoPesquisar\"]')\n",
    "    pesquisa_button.click()\n",
    "                \n",
    "    wait.until(EC.invisibility_of_element_located((By.XPATH, '//*[@id=\"j_idt55:j_idt58_modal\"]')))\n",
    "\n",
    "    pesquisa_button = driver.find_element(by=By.XPATH, value='//*[@id=\"frmPrincipal:j_idt182\"]')\n",
    "    pesquisa_button.click()\n",
    "    time.sleep(1.8)"
   ]
  },
  {
   "cell_type": "code",
   "execution_count": 187,
   "metadata": {},
   "outputs": [],
   "source": [
    "\n",
    "\n",
    "'''Seletor da combobox do ANO'''\n",
    "\n",
    "combobox_Ano = driver.find_element(by=By.XPATH, value='//*[@id=\"frmPrincipal:ano_input\"]')\n",
    "select_ano = Select(combobox_Ano)\n",
    "select_ano.select_by_visible_text(\"2022\")\n",
    "\n"
   ]
  },
  {
   "cell_type": "code",
   "execution_count": 190,
   "metadata": {},
   "outputs": [],
   "source": [
    "\n",
    "'''Seletor da combobox do MES'''\n",
    "\n",
    "combobox_Mes = driver.find_element(by=By.XPATH, value='//*[@id=\"frmPrincipal:mes_input\"]')\n",
    "select_mes = Select(combobox_Mes)\n",
    "select_mes.select_by_visible_text(\"Julho\")"
   ]
  },
  {
   "cell_type": "code",
   "execution_count": 196,
   "metadata": {},
   "outputs": [
    {
     "ename": "ElementNotInteractableException",
     "evalue": "Message: element not interactable\n  (Session info: chrome=121.0.6167.185)\nStacktrace:\n\tGetHandleVerifier [0x00007FF6937C7012+3522402]\n\t(No symbol) [0x00007FF6933E8352]\n\t(No symbol) [0x00007FF69329596D]\n\t(No symbol) [0x00007FF6932DD3C6]\n\t(No symbol) [0x00007FF6932D1910]\n\t(No symbol) [0x00007FF6932FF05A]\n\t(No symbol) [0x00007FF6932D120A]\n\t(No symbol) [0x00007FF6932FF270]\n\t(No symbol) [0x00007FF69331BDA3]\n\t(No symbol) [0x00007FF6932FEE03]\n\t(No symbol) [0x00007FF6932CF4D4]\n\t(No symbol) [0x00007FF6932D05F1]\n\tGetHandleVerifier [0x00007FF6937F9B9D+3730157]\n\tGetHandleVerifier [0x00007FF69384F02D+4079485]\n\tGetHandleVerifier [0x00007FF6938475D3+4048163]\n\tGetHandleVerifier [0x00007FF69351A649+718233]\n\t(No symbol) [0x00007FF6933F4A3F]\n\t(No symbol) [0x00007FF6933EFA94]\n\t(No symbol) [0x00007FF6933EFBC2]\n\t(No symbol) [0x00007FF6933DF2E4]\n\tBaseThreadInitThunk [0x00007FFB4069257D+29]\n\tRtlUserThreadStart [0x00007FFB4192AA58+40]\n",
     "output_type": "error",
     "traceback": [
      "\u001b[1;31m---------------------------------------------------------------------------\u001b[0m",
      "\u001b[1;31mElementNotInteractableException\u001b[0m           Traceback (most recent call last)",
      "Cell \u001b[1;32mIn[196], line 15\u001b[0m\n\u001b[0;32m     13\u001b[0m xpath_orgao \u001b[38;5;241m=\u001b[39m \u001b[38;5;124m'\u001b[39m\u001b[38;5;124m//*[@id=\u001b[39m\u001b[38;5;124m\"\u001b[39m\u001b[38;5;124mfrmPrincipal:selOrgao_\u001b[39m\u001b[38;5;124m'\u001b[39m\u001b[38;5;241m+\u001b[39morgao_numero\u001b[38;5;241m+\u001b[39m\u001b[38;5;124m'\u001b[39m\u001b[38;5;124m\"\u001b[39m\u001b[38;5;124m]\u001b[39m\u001b[38;5;124m'\u001b[39m\n\u001b[0;32m     14\u001b[0m orgao \u001b[38;5;241m=\u001b[39m driver\u001b[38;5;241m.\u001b[39mfind_element(by\u001b[38;5;241m=\u001b[39mBy\u001b[38;5;241m.\u001b[39mXPATH, value \u001b[38;5;241m=\u001b[39m xpath_orgao)\n\u001b[1;32m---> 15\u001b[0m \u001b[43morgao\u001b[49m\u001b[38;5;241;43m.\u001b[39;49m\u001b[43mclick\u001b[49m\u001b[43m(\u001b[49m\u001b[43m)\u001b[49m\n",
      "File \u001b[1;32mc:\\Users\\´Confirme\\AppData\\Local\\Programs\\Python\\Python312\\Lib\\site-packages\\selenium\\webdriver\\remote\\webelement.py:94\u001b[0m, in \u001b[0;36mWebElement.click\u001b[1;34m(self)\u001b[0m\n\u001b[0;32m     92\u001b[0m \u001b[38;5;28;01mdef\u001b[39;00m \u001b[38;5;21mclick\u001b[39m(\u001b[38;5;28mself\u001b[39m) \u001b[38;5;241m-\u001b[39m\u001b[38;5;241m>\u001b[39m \u001b[38;5;28;01mNone\u001b[39;00m:\n\u001b[0;32m     93\u001b[0m \u001b[38;5;250m    \u001b[39m\u001b[38;5;124;03m\"\"\"Clicks the element.\"\"\"\u001b[39;00m\n\u001b[1;32m---> 94\u001b[0m     \u001b[38;5;28;43mself\u001b[39;49m\u001b[38;5;241;43m.\u001b[39;49m\u001b[43m_execute\u001b[49m\u001b[43m(\u001b[49m\u001b[43mCommand\u001b[49m\u001b[38;5;241;43m.\u001b[39;49m\u001b[43mCLICK_ELEMENT\u001b[49m\u001b[43m)\u001b[49m\n",
      "File \u001b[1;32mc:\\Users\\´Confirme\\AppData\\Local\\Programs\\Python\\Python312\\Lib\\site-packages\\selenium\\webdriver\\remote\\webelement.py:395\u001b[0m, in \u001b[0;36mWebElement._execute\u001b[1;34m(self, command, params)\u001b[0m\n\u001b[0;32m    393\u001b[0m     params \u001b[38;5;241m=\u001b[39m {}\n\u001b[0;32m    394\u001b[0m params[\u001b[38;5;124m\"\u001b[39m\u001b[38;5;124mid\u001b[39m\u001b[38;5;124m\"\u001b[39m] \u001b[38;5;241m=\u001b[39m \u001b[38;5;28mself\u001b[39m\u001b[38;5;241m.\u001b[39m_id\n\u001b[1;32m--> 395\u001b[0m \u001b[38;5;28;01mreturn\u001b[39;00m \u001b[38;5;28;43mself\u001b[39;49m\u001b[38;5;241;43m.\u001b[39;49m\u001b[43m_parent\u001b[49m\u001b[38;5;241;43m.\u001b[39;49m\u001b[43mexecute\u001b[49m\u001b[43m(\u001b[49m\u001b[43mcommand\u001b[49m\u001b[43m,\u001b[49m\u001b[43m \u001b[49m\u001b[43mparams\u001b[49m\u001b[43m)\u001b[49m\n",
      "File \u001b[1;32mc:\\Users\\´Confirme\\AppData\\Local\\Programs\\Python\\Python312\\Lib\\site-packages\\selenium\\webdriver\\remote\\webdriver.py:347\u001b[0m, in \u001b[0;36mWebDriver.execute\u001b[1;34m(self, driver_command, params)\u001b[0m\n\u001b[0;32m    345\u001b[0m response \u001b[38;5;241m=\u001b[39m \u001b[38;5;28mself\u001b[39m\u001b[38;5;241m.\u001b[39mcommand_executor\u001b[38;5;241m.\u001b[39mexecute(driver_command, params)\n\u001b[0;32m    346\u001b[0m \u001b[38;5;28;01mif\u001b[39;00m response:\n\u001b[1;32m--> 347\u001b[0m     \u001b[38;5;28;43mself\u001b[39;49m\u001b[38;5;241;43m.\u001b[39;49m\u001b[43merror_handler\u001b[49m\u001b[38;5;241;43m.\u001b[39;49m\u001b[43mcheck_response\u001b[49m\u001b[43m(\u001b[49m\u001b[43mresponse\u001b[49m\u001b[43m)\u001b[49m\n\u001b[0;32m    348\u001b[0m     response[\u001b[38;5;124m\"\u001b[39m\u001b[38;5;124mvalue\u001b[39m\u001b[38;5;124m\"\u001b[39m] \u001b[38;5;241m=\u001b[39m \u001b[38;5;28mself\u001b[39m\u001b[38;5;241m.\u001b[39m_unwrap_value(response\u001b[38;5;241m.\u001b[39mget(\u001b[38;5;124m\"\u001b[39m\u001b[38;5;124mvalue\u001b[39m\u001b[38;5;124m\"\u001b[39m, \u001b[38;5;28;01mNone\u001b[39;00m))\n\u001b[0;32m    349\u001b[0m     \u001b[38;5;28;01mreturn\u001b[39;00m response\n",
      "File \u001b[1;32mc:\\Users\\´Confirme\\AppData\\Local\\Programs\\Python\\Python312\\Lib\\site-packages\\selenium\\webdriver\\remote\\errorhandler.py:229\u001b[0m, in \u001b[0;36mErrorHandler.check_response\u001b[1;34m(self, response)\u001b[0m\n\u001b[0;32m    227\u001b[0m         alert_text \u001b[38;5;241m=\u001b[39m value[\u001b[38;5;124m\"\u001b[39m\u001b[38;5;124malert\u001b[39m\u001b[38;5;124m\"\u001b[39m]\u001b[38;5;241m.\u001b[39mget(\u001b[38;5;124m\"\u001b[39m\u001b[38;5;124mtext\u001b[39m\u001b[38;5;124m\"\u001b[39m)\n\u001b[0;32m    228\u001b[0m     \u001b[38;5;28;01mraise\u001b[39;00m exception_class(message, screen, stacktrace, alert_text)  \u001b[38;5;66;03m# type: ignore[call-arg]  # mypy is not smart enough here\u001b[39;00m\n\u001b[1;32m--> 229\u001b[0m \u001b[38;5;28;01mraise\u001b[39;00m exception_class(message, screen, stacktrace)\n",
      "\u001b[1;31mElementNotInteractableException\u001b[0m: Message: element not interactable\n  (Session info: chrome=121.0.6167.185)\nStacktrace:\n\tGetHandleVerifier [0x00007FF6937C7012+3522402]\n\t(No symbol) [0x00007FF6933E8352]\n\t(No symbol) [0x00007FF69329596D]\n\t(No symbol) [0x00007FF6932DD3C6]\n\t(No symbol) [0x00007FF6932D1910]\n\t(No symbol) [0x00007FF6932FF05A]\n\t(No symbol) [0x00007FF6932D120A]\n\t(No symbol) [0x00007FF6932FF270]\n\t(No symbol) [0x00007FF69331BDA3]\n\t(No symbol) [0x00007FF6932FEE03]\n\t(No symbol) [0x00007FF6932CF4D4]\n\t(No symbol) [0x00007FF6932D05F1]\n\tGetHandleVerifier [0x00007FF6937F9B9D+3730157]\n\tGetHandleVerifier [0x00007FF69384F02D+4079485]\n\tGetHandleVerifier [0x00007FF6938475D3+4048163]\n\tGetHandleVerifier [0x00007FF69351A649+718233]\n\t(No symbol) [0x00007FF6933F4A3F]\n\t(No symbol) [0x00007FF6933EFA94]\n\t(No symbol) [0x00007FF6933EFBC2]\n\t(No symbol) [0x00007FF6933DF2E4]\n\tBaseThreadInitThunk [0x00007FFB4069257D+29]\n\tRtlUserThreadStart [0x00007FFB4192AA58+40]\n"
     ]
    }
   ],
   "source": [
    "\n",
    "'''Seletor da combobox do ORGAO'''\n",
    "\n",
    "x = driver.find_elements(by=By.XPATH, value='//*[@id=\"frmPrincipal:selOrgao_panel\"]/div[2]/ul/li')\n",
    "qtd_orgaos = len([k for k in x])\n",
    "\n",
    "\n",
    "for i in range(qtd_orgaos+1):\n",
    "    combobox_Orgao = driver.find_elements(by=By.CLASS_NAME, value=\"ui-selectonemenu-label\")[2]\n",
    "    combobox_Orgao.click()\n",
    "    time.sleep(1)\n",
    "\n",
    "    orgao_numero = str(i)\n",
    "    xpath_orgao = '//*[@id=\"frmPrincipal:selOrgao_'+orgao_numero+'\"]'\n",
    "    orgao = driver.find_element(by=By.XPATH, value = xpath_orgao)\n",
    "    orgao.click()"
   ]
  },
  {
   "cell_type": "code",
   "execution_count": 160,
   "metadata": {},
   "outputs": [],
   "source": [
    "\n",
    "### Botão de Download\n",
    "\n",
    "pesquisa_button = driver.find_element(by=By.XPATH, value='//*[@id=\"frmPrincipal:botaoPesquisar\"]')\n",
    "pesquisa_button.click()\n",
    "time.sleep(2)\n",
    "\n",
    "pesquisa_button = driver.find_element(by=By.XPATH, value='//*[@id=\"frmPrincipal:j_idt182\"]')\n",
    "pesquisa_button.click()"
   ]
  },
  {
   "cell_type": "code",
   "execution_count": null,
   "metadata": {},
   "outputs": [],
   "source": [
    "\n",
    "wait = WebDriverWait(driver, 10)\n",
    "\n",
    "combobox_Ano = driver.find_elements(by=By.CLASS_NAME, value=\"ui-selectonemenu-label\")[0]\n",
    "combobox_Ano.click()\n",
    "\n",
    "ano_numero = str(1)\n",
    "xpath_ano = '//*[@id=\"frmPrincipal:ano_'+ano_numero+'\"]/li'\n",
    "ano = wait.until(EC.presence_of_all_elements_located((By.XPATH, xpath_ano)))\n",
    "ano.click()"
   ]
  }
 ],
 "metadata": {
  "kernelspec": {
   "display_name": "Python 3",
   "language": "python",
   "name": "python3"
  },
  "language_info": {
   "codemirror_mode": {
    "name": "ipython",
    "version": 3
   },
   "file_extension": ".py",
   "mimetype": "text/x-python",
   "name": "python",
   "nbconvert_exporter": "python",
   "pygments_lexer": "ipython3",
   "version": "3.12.0"
  }
 },
 "nbformat": 4,
 "nbformat_minor": 2
}
