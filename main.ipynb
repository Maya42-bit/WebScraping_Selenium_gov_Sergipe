{
 "cells": [
  {
   "cell_type": "code",
   "execution_count": 161,
   "metadata": {},
   "outputs": [],
   "source": [
    "### Importações \n",
    "\n",
    "import requests\n",
    "from bs4 import BeautifulSoup\n",
    "import time\n",
    "\n",
    "from selenium import webdriver\n",
    "from selenium.webdriver.support.ui import Select\n",
    "from selenium.webdriver.support.ui import WebDriverWait\n",
    "from selenium.webdriver.support import expected_conditions as EC\n",
    "from selenium.webdriver.common.by import By\n"
   ]
  },
  {
   "cell_type": "code",
   "execution_count": 162,
   "metadata": {},
   "outputs": [],
   "source": [
    "### Crianção dos parâmetros do Selenium\n",
    "\n",
    "service = webdriver.ChromeService()\n",
    "options = webdriver.ChromeOptions()\n",
    "driver = webdriver.Chrome(service=service, options=options)\n",
    "\n",
    "url = 'https://www.transparencia.se.gov.br/Pessoal/ServidoresPorOrgao.xhtml?orgao=ITPS'\n",
    "driver.get(url)"
   ]
  },
  {
   "cell_type": "code",
   "execution_count": 85,
   "metadata": {},
   "outputs": [],
   "source": [
    "### Seletores das combobox\n",
    "\n",
    "\n",
    "'''Seletor da combobox do ANO'''\n",
    "ano_inicial = 0\n",
    "ano_final = 1\n",
    "\n",
    "\n",
    "for i in range(ano_final, ano_inicial, -1 ):\n",
    "    combobox_Ano = driver.find_elements(by=By.CLASS_NAME, value=\"ui-selectonemenu-label\")[0]\n",
    "    combobox_Ano.click()\n",
    "    time.sleep(1)\n",
    "\n",
    "    ano_numero = str(i)\n",
    "    xpath_ano = '//*[@id=\"frmPrincipal:ano_'+ano_numero+'\"]'\n",
    "    ano = driver.find_element(by=By.XPATH, value=xpath_ano)\n",
    "    ano.click()\n",
    "\n",
    "    '''Seletor da combobox do MES'''\n",
    "\n",
    "    mes_inicial = 6\n",
    "    mes_final = 13\n",
    "\n",
    "    for i in range(mes_inicial, mes_final):\n",
    "        combobox_Mes = driver.find_elements(by=By.CLASS_NAME, value=\"ui-selectonemenu-label\")[1]\n",
    "        combobox_Mes.click()\n",
    "        time.sleep(1)\n",
    "\n",
    "        mes_numero = str(i)\n",
    "        xpath_mes = '//*[@id=\"frmPrincipal:mes_'+mes_numero+'\"]'\n",
    "        mes = driver.find_element(by=By.XPATH, value=xpath_mes)\n",
    "        mes.click()\n",
    "\n",
    "\n",
    "        x = driver.find_elements(by=By.XPATH, value='//*[@id=\"frmPrincipal:selOrgao_panel\"]/div[2]/ul/li')\n",
    "        qtd_orgaos = len([k for k in x])\n",
    "        qtd_orgaos\n",
    "\n",
    "\n",
    "        for i in range(qtd_orgaos+1):\n",
    "            combobox_Orgao = driver.find_elements(by=By.CLASS_NAME, value=\"ui-selectonemenu-label\")[2]\n",
    "            combobox_Orgao.click()\n",
    "            time.sleep(1)\n",
    "\n",
    "            orgao_numero = str(i)\n",
    "            xpath_orgao = '//*[@id=\"frmPrincipal:selOrgao_'+orgao_numero+'\"]'\n",
    "            orgao = driver.find_element(by=By.XPATH, value = xpath_orgao)\n",
    "            orgao.click()\n",
    "        \n",
    "        ### Botão de Download\n",
    "\n",
    "        pesquisa_button = driver.find_element(by=By.XPATH, value='//*[@id=\"frmPrincipal:botaoPesquisar\"]')\n",
    "        pesquisa_button.click()\n",
    "        time.sleep(2)\n",
    "\n",
    "        pesquisa_button = driver.find_element(by=By.XPATH, value='//*[@id=\"frmPrincipal:j_idt182\"]')\n",
    "        pesquisa_button.click()\n",
    "\n",
    "        \n"
   ]
  },
  {
   "cell_type": "code",
   "execution_count": 112,
   "metadata": {},
   "outputs": [],
   "source": [
    "\n",
    "'''Seletor da combobox do MES'''\n",
    "\n",
    "mes_inicial = 0\n",
    "mes_final = 6\n",
    "\n",
    "for i in range(mes_inicial, mes_final):\n",
    "    combobox_Mes = driver.find_elements(by=By.CLASS_NAME, value=\"ui-selectonemenu-label\")[1]\n",
    "    combobox_Mes.click()\n",
    "    time.sleep(1)\n",
    "\n",
    "    mes_numero = str(i)\n",
    "    xpath_mes = '//*[@id=\"frmPrincipal:mes_'+mes_numero+'\"]'\n",
    "    mes = driver.find_element(by=By.XPATH, value=xpath_mes)\n",
    "    mes.click()"
   ]
  },
  {
   "cell_type": "code",
   "execution_count": 121,
   "metadata": {},
   "outputs": [],
   "source": [
    "\n",
    "'''Seletor da combobox do ORGAO'''\n",
    "\n",
    "x = driver.find_elements(by=By.XPATH, value='//*[@id=\"frmPrincipal:selOrgao_panel\"]/div[2]/ul/li')\n",
    "qtd_orgaos = len([k for k in x])\n",
    "qtd_orgaos\n",
    "\n",
    "\n",
    "for i in range(qtd_orgaos+1):\n",
    "    combobox_Orgao = driver.find_elements(by=By.CLASS_NAME, value=\"ui-selectonemenu-label\")[2]\n",
    "    combobox_Orgao.click()\n",
    "    time.sleep(1)\n",
    "\n",
    "    orgao_numero = str(i)\n",
    "    xpath_orgao = '//*[@id=\"frmPrincipal:selOrgao_'+orgao_numero+'\"]'\n",
    "    orgao = driver.find_element(by=By.XPATH, value = xpath_orgao)\n",
    "    orgao.click()"
   ]
  },
  {
   "cell_type": "code",
   "execution_count": 160,
   "metadata": {},
   "outputs": [],
   "source": [
    "\n",
    "### Botão de Download\n",
    "\n",
    "pesquisa_button = driver.find_element(by=By.XPATH, value='//*[@id=\"frmPrincipal:botaoPesquisar\"]')\n",
    "pesquisa_button.click()\n",
    "time.sleep(2)\n",
    "\n",
    "pesquisa_button = driver.find_element(by=By.XPATH, value='//*[@id=\"frmPrincipal:j_idt182\"]')\n",
    "pesquisa_button.click()"
   ]
  },
  {
   "cell_type": "code",
   "execution_count": 171,
   "metadata": {},
   "outputs": [
    {
     "ename": "KeyboardInterrupt",
     "evalue": "",
     "output_type": "error",
     "traceback": [
      "\u001b[1;31m---------------------------------------------------------------------------\u001b[0m",
      "\u001b[1;31mKeyboardInterrupt\u001b[0m                         Traceback (most recent call last)",
      "Cell \u001b[1;32mIn[171], line 8\u001b[0m\n\u001b[0;32m      6\u001b[0m ano_numero \u001b[38;5;241m=\u001b[39m \u001b[38;5;28mstr\u001b[39m(\u001b[38;5;241m1\u001b[39m)\n\u001b[0;32m      7\u001b[0m xpath_ano \u001b[38;5;241m=\u001b[39m \u001b[38;5;124m'\u001b[39m\u001b[38;5;124m//*[@id=\u001b[39m\u001b[38;5;124m\"\u001b[39m\u001b[38;5;124mfrmPrincipal:ano_\u001b[39m\u001b[38;5;124m'\u001b[39m\u001b[38;5;241m+\u001b[39mano_numero\u001b[38;5;241m+\u001b[39m\u001b[38;5;124m'\u001b[39m\u001b[38;5;124m\"\u001b[39m\u001b[38;5;124m]/li\u001b[39m\u001b[38;5;124m'\u001b[39m\n\u001b[1;32m----> 8\u001b[0m ano \u001b[38;5;241m=\u001b[39m \u001b[43mwait\u001b[49m\u001b[38;5;241;43m.\u001b[39;49m\u001b[43muntil\u001b[49m\u001b[43m(\u001b[49m\u001b[43mEC\u001b[49m\u001b[38;5;241;43m.\u001b[39;49m\u001b[43mpresence_of_all_elements_located\u001b[49m\u001b[43m(\u001b[49m\u001b[43m(\u001b[49m\u001b[43mBy\u001b[49m\u001b[38;5;241;43m.\u001b[39;49m\u001b[43mXPATH\u001b[49m\u001b[43m,\u001b[49m\u001b[43m \u001b[49m\u001b[43mxpath_ano\u001b[49m\u001b[43m)\u001b[49m\u001b[43m)\u001b[49m\u001b[43m)\u001b[49m\n\u001b[0;32m      9\u001b[0m ano\u001b[38;5;241m.\u001b[39mclick()\n",
      "File \u001b[1;32mc:\\Users\\´Confirme\\AppData\\Local\\Programs\\Python\\Python312\\Lib\\site-packages\\selenium\\webdriver\\support\\wait.py:102\u001b[0m, in \u001b[0;36mWebDriverWait.until\u001b[1;34m(self, method, message)\u001b[0m\n\u001b[0;32m    100\u001b[0m     screen \u001b[38;5;241m=\u001b[39m \u001b[38;5;28mgetattr\u001b[39m(exc, \u001b[38;5;124m\"\u001b[39m\u001b[38;5;124mscreen\u001b[39m\u001b[38;5;124m\"\u001b[39m, \u001b[38;5;28;01mNone\u001b[39;00m)\n\u001b[0;32m    101\u001b[0m     stacktrace \u001b[38;5;241m=\u001b[39m \u001b[38;5;28mgetattr\u001b[39m(exc, \u001b[38;5;124m\"\u001b[39m\u001b[38;5;124mstacktrace\u001b[39m\u001b[38;5;124m\"\u001b[39m, \u001b[38;5;28;01mNone\u001b[39;00m)\n\u001b[1;32m--> 102\u001b[0m \u001b[43mtime\u001b[49m\u001b[38;5;241;43m.\u001b[39;49m\u001b[43msleep\u001b[49m\u001b[43m(\u001b[49m\u001b[38;5;28;43mself\u001b[39;49m\u001b[38;5;241;43m.\u001b[39;49m\u001b[43m_poll\u001b[49m\u001b[43m)\u001b[49m\n\u001b[0;32m    103\u001b[0m \u001b[38;5;28;01mif\u001b[39;00m time\u001b[38;5;241m.\u001b[39mmonotonic() \u001b[38;5;241m>\u001b[39m end_time:\n\u001b[0;32m    104\u001b[0m     \u001b[38;5;28;01mbreak\u001b[39;00m\n",
      "\u001b[1;31mKeyboardInterrupt\u001b[0m: "
     ]
    }
   ],
   "source": [
    "\n",
    "wait = WebDriverWait(driver, 10)\n",
    "\n",
    "combobox_Ano = driver.find_elements(by=By.CLASS_NAME, value=\"ui-selectonemenu-label\")[0]\n",
    "combobox_Ano.click()\n",
    "\n",
    "ano_numero = str(1)\n",
    "xpath_ano = '//*[@id=\"frmPrincipal:ano_'+ano_numero+'\"]/li'\n",
    "ano = wait.until(EC.presence_of_all_elements_located((By.XPATH, xpath_ano)))\n",
    "ano.click()"
   ]
  }
 ],
 "metadata": {
  "kernelspec": {
   "display_name": "Python 3",
   "language": "python",
   "name": "python3"
  },
  "language_info": {
   "codemirror_mode": {
    "name": "ipython",
    "version": 3
   },
   "file_extension": ".py",
   "mimetype": "text/x-python",
   "name": "python",
   "nbconvert_exporter": "python",
   "pygments_lexer": "ipython3",
   "version": "3.12.0"
  }
 },
 "nbformat": 4,
 "nbformat_minor": 2
}
